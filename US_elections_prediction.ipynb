{
  "nbformat": 4,
  "nbformat_minor": 0,
  "metadata": {
    "colab": {
      "name": "US elections prediction.ipynb",
      "provenance": [],
      "collapsed_sections": [
        "q4bM5Btdi6ow",
        "dX1ASaEsNMiG"
      ]
    },
    "kernelspec": {
      "name": "python3",
      "display_name": "Python 3"
    }
  },
  "cells": [
    {
      "cell_type": "markdown",
      "metadata": {
        "id": "HSszO-_hTx4S"
      },
      "source": [
        "# US election prediction on historical data"
      ]
    },
    {
      "cell_type": "markdown",
      "metadata": {
        "id": "q4bM5Btdi6ow"
      },
      "source": [
        "## 1. Introduction"
      ]
    },
    {
      "cell_type": "markdown",
      "metadata": {
        "id": "OMBwLFCdVD11"
      },
      "source": [
        "This is a research on election prediction in the United States. Let’s start with general things and significant conclusions:\n",
        "\n",
        "1. The history of elections dates back to 1789. More than 200 years have already passed as of 2020.  It means that there should already be enough data accumulated to make some interesting things as prediction.\n",
        "2. Both party and non party candidates have participated in elections throughout history. However, members of only two parties have become US presidents since the second half of the 19th century . These are Democrats and Republicans. Hence, we can consider predicting the next\n",
        "president as a binary classification problem in which two parties act as two classes.\n",
        "3. The US election system is not direct, therefore we need to simplify it.\n",
        "\n",
        "Let's take a closer look at the last point. Generally speaking, Americans first vote for the electors and then the second elect the President.  However, this system may have a number of disadvantages.  For example, electors are not required to vote for the candidates they promised to vote for and other external factors can take place. We will assume that the election is not affected by anything like external influence, electoral bribery, or other election fraud. Then we can state that every American citizen can influence the outcome of the election. This is  simplification of election system in this work.\n",
        "\n",
        "Next a significant question arises. What can affect the vote of an American citizen in an election? If you imagine yourself before an election, what influences your vote? Perhaps you could ask yourself. How does the current president handle his duties? How much has education improved over this period? And health care? What about the economy? Generally speaking, there are many factors that can influence the choice of a particular candidate.\n",
        "\n",
        "Some of these factors will be considered in this research and applied for the prediction of the next president. This work is founded on the assumption that Americans decide to either change or support the ruling party based on changes in economic or social factors during the current period of that party's rule. These trends of changes in factors over the period of the current party's rule will be used to predict the next ruling party.\n",
        "\n",
        "Further plan:\n",
        "1. Dataset preparation\n",
        "2. Training\n",
        "3. Testing\n",
        "4. Next president prediction \n",
        "5. Discussion\n",
        "\n",
        "\n"
      ]
    },
    {
      "cell_type": "markdown",
      "metadata": {
        "id": "FDFxswOJjD4L"
      },
      "source": [
        "First, let us do some preparation work.\n"
      ]
    },
    {
      "cell_type": "code",
      "metadata": {
        "id": "T7JodWk85-PD"
      },
      "source": [
        "# import all needed packages\n",
        "\n",
        "from sklearn.metrics import f1_score, make_scorer, precision_score, recall_score, accuracy_score\n",
        "from sklearn.model_selection import cross_val_score, GridSearchCV, train_test_split\n",
        "from sklearn.neighbors import NearestNeighbors, KNeighborsClassifier\n",
        "from sklearn.linear_model import LogisticRegression\n",
        "from sklearn.neural_network import MLPClassifier\n",
        "from sklearn.tree import DecisionTreeClassifier\n",
        "from sklearn.preprocessing import MinMaxScaler\n",
        "from sklearn.svm import SVC\n",
        "\n",
        "import matplotlib.pyplot as plt\n",
        "import pandas as pd\n",
        "import numpy as np\n",
        "import warnings\n",
        "warnings.filterwarnings('ignore')"
      ],
      "execution_count": 1,
      "outputs": []
    },
    {
      "cell_type": "code",
      "metadata": {
        "id": "ktuSpX15mNhm"
      },
      "source": [
        "# unzip the data\n",
        "\n",
        "! unzip -qq data.zip"
      ],
      "execution_count": 2,
      "outputs": []
    },
    {
      "cell_type": "markdown",
      "metadata": {
        "id": "p-zpa8Y5lBs9"
      },
      "source": [
        "Let us divide the time since the 20th century into presidential terms and label  them as follows:\n",
        "\n",
        "'*period*' : [label of ruling party for that period, label of next ruling party]\n",
        "\n",
        "Labels are : 1 for Democrats, 0 for Republicans. Therefore class 1 corresponds to Democrats and class, 0 - to Democrats in terms of classification problem. The period between 2017 and 2019 is labeled only by current ruling party and will be used in the last part for prediction next president. "
      ]
    },
    {
      "cell_type": "code",
      "metadata": {
        "id": "O14ylbXpgF5C"
      },
      "source": [
        "# 1 for democrats, 0 for republicans\n",
        "\n",
        "periods = {\n",
        "   # '1901-1905' : 0,\n",
        "   # '1905-1909' : 0,\n",
        "   # '1909-1913' : 0,\n",
        "   # '1913-1917' : 1,\n",
        "   # '1917-1921' : 1,\n",
        "   # '1921-1923' : 0,\n",
        "   # '1923-1929' : 0,\n",
        "   # '1929-1933' : 0,\n",
        "   # '1933-1937' : 1,\n",
        "   # '1937-1941' : 1,\n",
        "   # '1941-1945' : 1,\n",
        "   # '1945-1949' : 1,\n",
        "   # '1949-1953' : 1,\n",
        "   # '1953-1957' : 0,\n",
        "   # '1957-1961' : 0,\n",
        "    '1961-1963' : [1, 1],\n",
        "    '1963-1967' : [1, 1],\n",
        "    '1967-1969' : [1, 0],\n",
        "    '1969-1974' : [0, 0],\n",
        "    '1974-1977' : [0, 1],\n",
        "    '1977-1981' : [1, 0],\n",
        "    '1981-1985' : [0, 0],\n",
        "    '1985-1989' : [0, 0],\n",
        "    '1989-1993' : [0, 1],\n",
        "    '1993-1997' : [1, 1],\n",
        "    '1997-2001' : [1, 0],\n",
        "    '2001-2005' : [0, 0],\n",
        "    '2005-2009' : [0, 1],\n",
        "    '2009-2013' : [1, 1],\n",
        "    '2013-2017' : [1, 0],\n",
        "#    '2017-2019' : 0\n",
        "}"
      ],
      "execution_count": 3,
      "outputs": []
    },
    {
      "cell_type": "markdown",
      "metadata": {
        "id": "K4aSVDIjZGzi"
      },
      "source": [
        "## 2. Data preparation"
      ]
    },
    {
      "cell_type": "markdown",
      "metadata": {
        "id": "Uuu4SVWymQR7"
      },
      "source": [
        "Let us describe the dataset. This research will consider only 10 factors that reflect the situation in the country for the period between 1960 and 2019. These are: GDP growth rate, Inflation, Unemployment rate, Life expectancy, Birth rate, Level of crime, Education, Healthcare and Welfare spendings. And one the most significant value is the label of currently ruling party. The reason for such a small number of factors and a short period of time is a lack of data. Surprisingly, many resources with data on the US economy and social life are not available in Russia. However, in this work data augmentation approach will be applied to overcame this problem. This set of methods is commonly used in Deep Learning. It consists in generating synthetic data, which can help if the scarcity of data takes place. The Synthetic Minority Over-sampling Technique (SMOTE) will be used to create new objects. "
      ]
    },
    {
      "cell_type": "code",
      "metadata": {
        "id": "Tx21LxrtNtkR"
      },
      "source": [
        "# upload the data\n",
        "\n",
        "gdp_growth = pd.read_csv('./gdp_growth_rate.csv')\n",
        "inflation = pd.read_csv('./inflation_rate.csv')\n",
        "life_exp = pd.read_csv('./life_expectancy.csv')\n",
        "birth_rate = pd.read_csv('./birth_rate.csv')\n",
        "#death_rate = pd.read_csv('./death_rate.csv')\n",
        "crime_rate = pd.read_csv('./crime_rate.csv', delimiter='    ')\n",
        "spendings = pd.read_csv('./spendings.csv', delimiter='\\t')\n",
        "unemp_rate = pd.read_csv('./unem_rate.csv', delimiter=' ')"
      ],
      "execution_count": 4,
      "outputs": []
    },
    {
      "cell_type": "markdown",
      "metadata": {
        "id": "Bo-4oF9fDGjV"
      },
      "source": [
        "Let us get the necessary data from the files and create a table of initial factors by year."
      ]
    },
    {
      "cell_type": "markdown",
      "metadata": {
        "id": "dX1ASaEsNMiG"
      },
      "source": [
        "### 2.1 Preprocessing"
      ]
    },
    {
      "cell_type": "markdown",
      "metadata": {
        "id": "ulMWt-hRNSeI"
      },
      "source": [
        "Let's define a preprocessing function for each factor's data."
      ]
    },
    {
      "cell_type": "code",
      "metadata": {
        "id": "pW_3ISbTEL1Z"
      },
      "source": [
        "def general_preproc(data, prev_name, new_name):\n",
        "    data['date'] = data['date'].apply(lambda x: int(x[0:4]))\n",
        "    data = data[['date', prev_name]]\n",
        "    data.columns = ['date', new_name]\n",
        "    return data\n",
        "\n",
        "def gdp_preproc(data):\n",
        "    return general_preproc(data, ' GDP Growth (%)', 'gdp_growth')\n",
        "\n",
        "def inf_preproc(data):\n",
        "    return general_preproc(data, ' Inflation Rate (%)', 'inflation')\n",
        "\n",
        "def life_exp_preproc(data):\n",
        "    return general_preproc(data, ' Life Expectancy from Birth (Years)', \n",
        "                           'life_exp')\n",
        "\n",
        "def birth_rate_preproc(data):\n",
        "    return general_preproc(data, ' Births per 1000 People', 'births')\n",
        "\n",
        "def crime_rate_preproc(data):\n",
        "    data = data.rename(columns={'Year':'date'})\n",
        "    data['crime_rate'] = data['Total'].apply(lambda x: float(x.replace(',', '.')))\n",
        "    data = data[['date', 'crime_rate']]\n",
        "    return data\n",
        "\n",
        "def unemp_preproc(data):\n",
        "    cols = list(data.columns)\n",
        "    cols.remove('Year')\n",
        "    data = data.rename(columns={'Year':'date'})\n",
        "    data['unemp_rate'] = data[cols].mean(axis=1)\n",
        "    data = data.drop(cols, axis=1)\n",
        "    return data\n",
        "\n",
        "def spendings_preproc(data):\n",
        "    data = data.drop(['Unnamed: 4', 'Unnamed: 6', 'Unnamed: 8'], axis=1)\n",
        "    data = data.rename(columns={'Year':'date'})\n",
        "\n",
        "    health_spends = data[['date', 'Health Care - Total $ billion nominal']]\n",
        "    edu_spends = data[['date', 'Education - Total $ billion nominal']]\n",
        "    welfare_spend = data[['date', 'Welfare - Total $ billion nominal']]\n",
        "\n",
        "    rename_cols = [{'Health Care - Total $ billion nominal':'health_spends'},\n",
        "                  {'Education - Total $ billion nominal':'edu_spends'},\n",
        "                  {'Welfare - Total $ billion nominal':'welfare_spends'}]\n",
        "\n",
        "    health_spends = health_spends.rename(columns=rename_cols[0])\n",
        "    edu_spends = edu_spends.rename(columns=rename_cols[1])\n",
        "    welfare_spend = welfare_spend.rename(columns=rename_cols[2])\n",
        "    return health_spends, edu_spends, welfare_spend"
      ],
      "execution_count": 5,
      "outputs": []
    },
    {
      "cell_type": "code",
      "metadata": {
        "id": "Ex8rMA9QdIZ2"
      },
      "source": [
        "gdp_growth = gdp_preproc(gdp_growth)\n",
        "inflation = inf_preproc(inflation)\n",
        "life_exp = life_exp_preproc(life_exp)\n",
        "birth_rate = birth_rate_preproc(birth_rate)\n",
        "crime_rate = crime_rate_preproc(crime_rate)\n",
        "health_spends, edu_spends, welfare_spends = spendings_preproc(spendings)\n",
        "unemp_rate = unemp_preproc(unemp_rate)"
      ],
      "execution_count": 6,
      "outputs": []
    },
    {
      "cell_type": "markdown",
      "metadata": {
        "id": "LkUxrUMdNjTI"
      },
      "source": [
        "Merge everything together."
      ]
    },
    {
      "cell_type": "code",
      "metadata": {
        "id": "SJZ2zSxohkiJ"
      },
      "source": [
        "data = pd.merge(gdp_growth, inflation, on='date')\n",
        "mass = [life_exp, birth_rate, crime_rate, health_spends, edu_spends,\n",
        "        welfare_spends, unemp_rate]\n",
        "  \n",
        "for m in mass:\n",
        "    data = pd.merge(data, m, on='date')\n",
        "\n",
        "data = data.set_index('date')"
      ],
      "execution_count": 7,
      "outputs": []
    },
    {
      "cell_type": "markdown",
      "metadata": {
        "id": "TTpIFbnoRk1K"
      },
      "source": [
        "Let's look at the current data."
      ]
    },
    {
      "cell_type": "code",
      "metadata": {
        "id": "gPWlvAKhm5qN",
        "outputId": "f2088756-bd8e-4107-c24f-8618a82cc20f",
        "colab": {
          "base_uri": "https://localhost:8080/",
          "height": 235
        }
      },
      "source": [
        "data.head()"
      ],
      "execution_count": 8,
      "outputs": [
        {
          "output_type": "execute_result",
          "data": {
            "text/html": [
              "<div>\n",
              "<style scoped>\n",
              "    .dataframe tbody tr th:only-of-type {\n",
              "        vertical-align: middle;\n",
              "    }\n",
              "\n",
              "    .dataframe tbody tr th {\n",
              "        vertical-align: top;\n",
              "    }\n",
              "\n",
              "    .dataframe thead th {\n",
              "        text-align: right;\n",
              "    }\n",
              "</style>\n",
              "<table border=\"1\" class=\"dataframe\">\n",
              "  <thead>\n",
              "    <tr style=\"text-align: right;\">\n",
              "      <th></th>\n",
              "      <th>gdp_growth</th>\n",
              "      <th>inflation</th>\n",
              "      <th>life_exp</th>\n",
              "      <th>births</th>\n",
              "      <th>crime_rate</th>\n",
              "      <th>health_spends</th>\n",
              "      <th>edu_spends</th>\n",
              "      <th>welfare_spends</th>\n",
              "      <th>unemp_rate</th>\n",
              "    </tr>\n",
              "    <tr>\n",
              "      <th>date</th>\n",
              "      <th></th>\n",
              "      <th></th>\n",
              "      <th></th>\n",
              "      <th></th>\n",
              "      <th></th>\n",
              "      <th></th>\n",
              "      <th></th>\n",
              "      <th></th>\n",
              "      <th></th>\n",
              "    </tr>\n",
              "  </thead>\n",
              "  <tbody>\n",
              "    <tr>\n",
              "      <th>1961</th>\n",
              "      <td>2.3</td>\n",
              "      <td>1.0707</td>\n",
              "      <td>69.93</td>\n",
              "      <td>22.134</td>\n",
              "      <td>1.906</td>\n",
              "      <td>5.68</td>\n",
              "      <td>21.21</td>\n",
              "      <td>10.27</td>\n",
              "      <td>6.691667</td>\n",
              "    </tr>\n",
              "    <tr>\n",
              "      <th>1962</th>\n",
              "      <td>6.1</td>\n",
              "      <td>1.1988</td>\n",
              "      <td>70.02</td>\n",
              "      <td>21.573</td>\n",
              "      <td>2.019</td>\n",
              "      <td>5.54</td>\n",
              "      <td>22.79</td>\n",
              "      <td>13.22</td>\n",
              "      <td>5.566667</td>\n",
              "    </tr>\n",
              "    <tr>\n",
              "      <th>1963</th>\n",
              "      <td>4.4</td>\n",
              "      <td>1.2397</td>\n",
              "      <td>70.11</td>\n",
              "      <td>21.012</td>\n",
              "      <td>2.180</td>\n",
              "      <td>6.09</td>\n",
              "      <td>24.61</td>\n",
              "      <td>13.27</td>\n",
              "      <td>5.641667</td>\n",
              "    </tr>\n",
              "    <tr>\n",
              "      <th>1964</th>\n",
              "      <td>5.8</td>\n",
              "      <td>1.2789</td>\n",
              "      <td>70.16</td>\n",
              "      <td>20.336</td>\n",
              "      <td>2.388</td>\n",
              "      <td>6.70</td>\n",
              "      <td>27.24</td>\n",
              "      <td>13.19</td>\n",
              "      <td>5.158333</td>\n",
              "    </tr>\n",
              "    <tr>\n",
              "      <th>1965</th>\n",
              "      <td>6.4</td>\n",
              "      <td>1.5852</td>\n",
              "      <td>70.21</td>\n",
              "      <td>19.660</td>\n",
              "      <td>2.449</td>\n",
              "      <td>7.15</td>\n",
              "      <td>29.82</td>\n",
              "      <td>12.93</td>\n",
              "      <td>4.508333</td>\n",
              "    </tr>\n",
              "  </tbody>\n",
              "</table>\n",
              "</div>"
            ],
            "text/plain": [
              "      gdp_growth  inflation  life_exp  ...  edu_spends  welfare_spends  unemp_rate\n",
              "date                                   ...                                        \n",
              "1961         2.3     1.0707     69.93  ...       21.21           10.27    6.691667\n",
              "1962         6.1     1.1988     70.02  ...       22.79           13.22    5.566667\n",
              "1963         4.4     1.2397     70.11  ...       24.61           13.27    5.641667\n",
              "1964         5.8     1.2789     70.16  ...       27.24           13.19    5.158333\n",
              "1965         6.4     1.5852     70.21  ...       29.82           12.93    4.508333\n",
              "\n",
              "[5 rows x 9 columns]"
            ]
          },
          "metadata": {
            "tags": []
          },
          "execution_count": 8
        }
      ]
    },
    {
      "cell_type": "markdown",
      "metadata": {
        "id": "FMiDmnJORpkq"
      },
      "source": [
        "Now let's make a feature description of presidential terms. We will calculate the changes in factors between the beginning and the end of each party's rule, which are indicated in the dictionary *periods* defined in the Introduction. Also, we will add the label of ruling party for corresponding period and the label of next ruling party as a target variable."
      ]
    },
    {
      "cell_type": "code",
      "metadata": {
        "id": "KqkIDgNBjqlz"
      },
      "source": [
        "pres_mass = []\n",
        "\n",
        "for k, v in periods.items():\n",
        "    start = int(k[:4])\n",
        "    end = int(k[-4:])\n",
        "\n",
        "    diff = data.loc[end] - data.loc[start]\n",
        "    pres_mass.append(np.hstack((diff, v[0], v[1])))"
      ],
      "execution_count": 32,
      "outputs": []
    },
    {
      "cell_type": "code",
      "metadata": {
        "id": "PxVFiMOGjwaa"
      },
      "source": [
        "pres_columns = ['d_' + col for col in data.columns] \n",
        "pres_columns += ['cur_pres', 'next_pres'] \n",
        "pres_dataset = pd.DataFrame(pres_mass, columns=pres_columns)"
      ],
      "execution_count": 33,
      "outputs": []
    },
    {
      "cell_type": "markdown",
      "metadata": {
        "id": "CpGOWUFKT6d5"
      },
      "source": [
        "Now we get our dataset."
      ]
    },
    {
      "cell_type": "code",
      "metadata": {
        "id": "Fktuueq8n6W4",
        "outputId": "b3f3307d-df43-44e0-bb97-5a0904a80425",
        "colab": {
          "base_uri": "https://localhost:8080/",
          "height": 204
        }
      },
      "source": [
        "pres_dataset.head()"
      ],
      "execution_count": 34,
      "outputs": [
        {
          "output_type": "execute_result",
          "data": {
            "text/html": [
              "<div>\n",
              "<style scoped>\n",
              "    .dataframe tbody tr th:only-of-type {\n",
              "        vertical-align: middle;\n",
              "    }\n",
              "\n",
              "    .dataframe tbody tr th {\n",
              "        vertical-align: top;\n",
              "    }\n",
              "\n",
              "    .dataframe thead th {\n",
              "        text-align: right;\n",
              "    }\n",
              "</style>\n",
              "<table border=\"1\" class=\"dataframe\">\n",
              "  <thead>\n",
              "    <tr style=\"text-align: right;\">\n",
              "      <th></th>\n",
              "      <th>d_gdp_growth</th>\n",
              "      <th>d_inflation</th>\n",
              "      <th>d_life_exp</th>\n",
              "      <th>d_births</th>\n",
              "      <th>d_crime_rate</th>\n",
              "      <th>d_health_spends</th>\n",
              "      <th>d_edu_spends</th>\n",
              "      <th>d_welfare_spends</th>\n",
              "      <th>d_unemp_rate</th>\n",
              "      <th>cur_pres</th>\n",
              "      <th>next_pres</th>\n",
              "    </tr>\n",
              "  </thead>\n",
              "  <tbody>\n",
              "    <tr>\n",
              "      <th>0</th>\n",
              "      <td>2.1000</td>\n",
              "      <td>0.1690</td>\n",
              "      <td>0.180</td>\n",
              "      <td>-1.122</td>\n",
              "      <td>0.274</td>\n",
              "      <td>0.41</td>\n",
              "      <td>3.40</td>\n",
              "      <td>3.00</td>\n",
              "      <td>-1.050000</td>\n",
              "      <td>1.0</td>\n",
              "      <td>1.0</td>\n",
              "    </tr>\n",
              "    <tr>\n",
              "      <th>1</th>\n",
              "      <td>-1.9000</td>\n",
              "      <td>1.5331</td>\n",
              "      <td>0.200</td>\n",
              "      <td>-2.704</td>\n",
              "      <td>0.809</td>\n",
              "      <td>8.62</td>\n",
              "      <td>16.74</td>\n",
              "      <td>-1.95</td>\n",
              "      <td>-1.800000</td>\n",
              "      <td>1.0</td>\n",
              "      <td>1.0</td>\n",
              "    </tr>\n",
              "    <tr>\n",
              "      <th>2</th>\n",
              "      <td>0.6000</td>\n",
              "      <td>2.6896</td>\n",
              "      <td>0.262</td>\n",
              "      <td>-1.076</td>\n",
              "      <td>0.691</td>\n",
              "      <td>6.56</td>\n",
              "      <td>9.65</td>\n",
              "      <td>3.92</td>\n",
              "      <td>-0.350000</td>\n",
              "      <td>1.0</td>\n",
              "      <td>0.0</td>\n",
              "    </tr>\n",
              "    <tr>\n",
              "      <th>3</th>\n",
              "      <td>-3.6405</td>\n",
              "      <td>5.5924</td>\n",
              "      <td>1.214</td>\n",
              "      <td>-1.776</td>\n",
              "      <td>1.170</td>\n",
              "      <td>20.30</td>\n",
              "      <td>30.44</td>\n",
              "      <td>19.58</td>\n",
              "      <td>2.150000</td>\n",
              "      <td>0.0</td>\n",
              "      <td>0.0</td>\n",
              "    </tr>\n",
              "    <tr>\n",
              "      <th>4</th>\n",
              "      <td>5.1647</td>\n",
              "      <td>-4.5531</td>\n",
              "      <td>1.098</td>\n",
              "      <td>-0.525</td>\n",
              "      <td>0.227</td>\n",
              "      <td>25.70</td>\n",
              "      <td>33.18</td>\n",
              "      <td>31.22</td>\n",
              "      <td>1.408333</td>\n",
              "      <td>0.0</td>\n",
              "      <td>1.0</td>\n",
              "    </tr>\n",
              "  </tbody>\n",
              "</table>\n",
              "</div>"
            ],
            "text/plain": [
              "   d_gdp_growth  d_inflation  d_life_exp  ...  d_unemp_rate  cur_pres  next_pres\n",
              "0        2.1000       0.1690       0.180  ...     -1.050000       1.0        1.0\n",
              "1       -1.9000       1.5331       0.200  ...     -1.800000       1.0        1.0\n",
              "2        0.6000       2.6896       0.262  ...     -0.350000       1.0        0.0\n",
              "3       -3.6405       5.5924       1.214  ...      2.150000       0.0        0.0\n",
              "4        5.1647      -4.5531       1.098  ...      1.408333       0.0        1.0\n",
              "\n",
              "[5 rows x 11 columns]"
            ]
          },
          "metadata": {
            "tags": []
          },
          "execution_count": 34
        }
      ]
    },
    {
      "cell_type": "markdown",
      "metadata": {
        "id": "N_Ve7_2bVYRZ"
      },
      "source": [
        "Further pipeline:\n",
        "1. Remove highly correlated features (abs value of corr. coefficient > 0.8) for linear models as they can negatively affect the representativeness of such models.\n",
        "2. Make one-hot-encoding for the categorical feature (cur_pres) Otherwise, models can compare the values of this feature mathematically using comparison operations, which is not correct for categorical features.\n",
        "3. Scale features since they have different range.\n",
        "4. Data augmentation."
      ]
    },
    {
      "cell_type": "markdown",
      "metadata": {
        "id": "paVfz-s9VPIf"
      },
      "source": [
        "Let us build the correlation matrix."
      ]
    },
    {
      "cell_type": "code",
      "metadata": {
        "id": "yWnzL2U8sZ3H",
        "outputId": "4e53f7df-d296-4462-bdb4-daf1a0e6b8d3",
        "colab": {
          "base_uri": "https://localhost:8080/",
          "height": 271
        }
      },
      "source": [
        "corr = pres_dataset.corr()\n",
        "corr.style.background_gradient(cmap='coolwarm').set_precision(2)"
      ],
      "execution_count": 35,
      "outputs": [
        {
          "output_type": "execute_result",
          "data": {
            "text/html": [
              "<style  type=\"text/css\" >\n",
              "#T_49bee1e8_0a59_11eb_8cfa_0242ac1c0002row0_col0,#T_49bee1e8_0a59_11eb_8cfa_0242ac1c0002row1_col1,#T_49bee1e8_0a59_11eb_8cfa_0242ac1c0002row2_col2,#T_49bee1e8_0a59_11eb_8cfa_0242ac1c0002row3_col3,#T_49bee1e8_0a59_11eb_8cfa_0242ac1c0002row4_col4,#T_49bee1e8_0a59_11eb_8cfa_0242ac1c0002row5_col5,#T_49bee1e8_0a59_11eb_8cfa_0242ac1c0002row6_col6,#T_49bee1e8_0a59_11eb_8cfa_0242ac1c0002row7_col7,#T_49bee1e8_0a59_11eb_8cfa_0242ac1c0002row8_col8,#T_49bee1e8_0a59_11eb_8cfa_0242ac1c0002row9_col9,#T_49bee1e8_0a59_11eb_8cfa_0242ac1c0002row10_col10{\n",
              "            background-color:  #b40426;\n",
              "            color:  #f1f1f1;\n",
              "        }#T_49bee1e8_0a59_11eb_8cfa_0242ac1c0002row0_col1{\n",
              "            background-color:  #6485ec;\n",
              "            color:  #000000;\n",
              "        }#T_49bee1e8_0a59_11eb_8cfa_0242ac1c0002row0_col2,#T_49bee1e8_0a59_11eb_8cfa_0242ac1c0002row5_col0{\n",
              "            background-color:  #93b5fe;\n",
              "            color:  #000000;\n",
              "        }#T_49bee1e8_0a59_11eb_8cfa_0242ac1c0002row0_col3{\n",
              "            background-color:  #bad0f8;\n",
              "            color:  #000000;\n",
              "        }#T_49bee1e8_0a59_11eb_8cfa_0242ac1c0002row0_col4,#T_49bee1e8_0a59_11eb_8cfa_0242ac1c0002row2_col1{\n",
              "            background-color:  #9abbff;\n",
              "            color:  #000000;\n",
              "        }#T_49bee1e8_0a59_11eb_8cfa_0242ac1c0002row0_col5{\n",
              "            background-color:  #a3c2fe;\n",
              "            color:  #000000;\n",
              "        }#T_49bee1e8_0a59_11eb_8cfa_0242ac1c0002row0_col6{\n",
              "            background-color:  #3e51c5;\n",
              "            color:  #f1f1f1;\n",
              "        }#T_49bee1e8_0a59_11eb_8cfa_0242ac1c0002row0_col7,#T_49bee1e8_0a59_11eb_8cfa_0242ac1c0002row3_col1,#T_49bee1e8_0a59_11eb_8cfa_0242ac1c0002row3_col10,#T_49bee1e8_0a59_11eb_8cfa_0242ac1c0002row4_col3,#T_49bee1e8_0a59_11eb_8cfa_0242ac1c0002row4_col5,#T_49bee1e8_0a59_11eb_8cfa_0242ac1c0002row4_col6,#T_49bee1e8_0a59_11eb_8cfa_0242ac1c0002row5_col4,#T_49bee1e8_0a59_11eb_8cfa_0242ac1c0002row7_col0,#T_49bee1e8_0a59_11eb_8cfa_0242ac1c0002row8_col9,#T_49bee1e8_0a59_11eb_8cfa_0242ac1c0002row9_col2,#T_49bee1e8_0a59_11eb_8cfa_0242ac1c0002row9_col8{\n",
              "            background-color:  #3b4cc0;\n",
              "            color:  #f1f1f1;\n",
              "        }#T_49bee1e8_0a59_11eb_8cfa_0242ac1c0002row0_col8{\n",
              "            background-color:  #5572df;\n",
              "            color:  #000000;\n",
              "        }#T_49bee1e8_0a59_11eb_8cfa_0242ac1c0002row0_col9,#T_49bee1e8_0a59_11eb_8cfa_0242ac1c0002row4_col8,#T_49bee1e8_0a59_11eb_8cfa_0242ac1c0002row6_col7{\n",
              "            background-color:  #c9d7f0;\n",
              "            color:  #000000;\n",
              "        }#T_49bee1e8_0a59_11eb_8cfa_0242ac1c0002row0_col10{\n",
              "            background-color:  #c5d6f2;\n",
              "            color:  #000000;\n",
              "        }#T_49bee1e8_0a59_11eb_8cfa_0242ac1c0002row1_col0{\n",
              "            background-color:  #779af7;\n",
              "            color:  #000000;\n",
              "        }#T_49bee1e8_0a59_11eb_8cfa_0242ac1c0002row1_col2,#T_49bee1e8_0a59_11eb_8cfa_0242ac1c0002row9_col10,#T_49bee1e8_0a59_11eb_8cfa_0242ac1c0002row10_col2{\n",
              "            background-color:  #a6c4fe;\n",
              "            color:  #000000;\n",
              "        }#T_49bee1e8_0a59_11eb_8cfa_0242ac1c0002row1_col3{\n",
              "            background-color:  #4257c9;\n",
              "            color:  #f1f1f1;\n",
              "        }#T_49bee1e8_0a59_11eb_8cfa_0242ac1c0002row1_col4{\n",
              "            background-color:  #f18f71;\n",
              "            color:  #000000;\n",
              "        }#T_49bee1e8_0a59_11eb_8cfa_0242ac1c0002row1_col5{\n",
              "            background-color:  #9ebeff;\n",
              "            color:  #000000;\n",
              "        }#T_49bee1e8_0a59_11eb_8cfa_0242ac1c0002row1_col6{\n",
              "            background-color:  #92b4fe;\n",
              "            color:  #000000;\n",
              "        }#T_49bee1e8_0a59_11eb_8cfa_0242ac1c0002row1_col7{\n",
              "            background-color:  #5673e0;\n",
              "            color:  #000000;\n",
              "        }#T_49bee1e8_0a59_11eb_8cfa_0242ac1c0002row1_col8,#T_49bee1e8_0a59_11eb_8cfa_0242ac1c0002row6_col1{\n",
              "            background-color:  #8badfd;\n",
              "            color:  #000000;\n",
              "        }#T_49bee1e8_0a59_11eb_8cfa_0242ac1c0002row1_col9{\n",
              "            background-color:  #f6bea4;\n",
              "            color:  #000000;\n",
              "        }#T_49bee1e8_0a59_11eb_8cfa_0242ac1c0002row1_col10{\n",
              "            background-color:  #4358cb;\n",
              "            color:  #f1f1f1;\n",
              "        }#T_49bee1e8_0a59_11eb_8cfa_0242ac1c0002row2_col0{\n",
              "            background-color:  #96b7ff;\n",
              "            color:  #000000;\n",
              "        }#T_49bee1e8_0a59_11eb_8cfa_0242ac1c0002row2_col3,#T_49bee1e8_0a59_11eb_8cfa_0242ac1c0002row4_col2,#T_49bee1e8_0a59_11eb_8cfa_0242ac1c0002row10_col8{\n",
              "            background-color:  #cfdaea;\n",
              "            color:  #000000;\n",
              "        }#T_49bee1e8_0a59_11eb_8cfa_0242ac1c0002row2_col4,#T_49bee1e8_0a59_11eb_8cfa_0242ac1c0002row7_col10{\n",
              "            background-color:  #dadce0;\n",
              "            color:  #000000;\n",
              "        }#T_49bee1e8_0a59_11eb_8cfa_0242ac1c0002row2_col5{\n",
              "            background-color:  #82a6fb;\n",
              "            color:  #000000;\n",
              "        }#T_49bee1e8_0a59_11eb_8cfa_0242ac1c0002row2_col6{\n",
              "            background-color:  #80a3fa;\n",
              "            color:  #000000;\n",
              "        }#T_49bee1e8_0a59_11eb_8cfa_0242ac1c0002row2_col7{\n",
              "            background-color:  #f4c5ad;\n",
              "            color:  #000000;\n",
              "        }#T_49bee1e8_0a59_11eb_8cfa_0242ac1c0002row2_col8{\n",
              "            background-color:  #ef886b;\n",
              "            color:  #000000;\n",
              "        }#T_49bee1e8_0a59_11eb_8cfa_0242ac1c0002row2_col9{\n",
              "            background-color:  #4c66d6;\n",
              "            color:  #000000;\n",
              "        }#T_49bee1e8_0a59_11eb_8cfa_0242ac1c0002row2_col10{\n",
              "            background-color:  #8fb1fe;\n",
              "            color:  #000000;\n",
              "        }#T_49bee1e8_0a59_11eb_8cfa_0242ac1c0002row3_col0{\n",
              "            background-color:  #c1d4f4;\n",
              "            color:  #000000;\n",
              "        }#T_49bee1e8_0a59_11eb_8cfa_0242ac1c0002row3_col2{\n",
              "            background-color:  #d3dbe7;\n",
              "            color:  #000000;\n",
              "        }#T_49bee1e8_0a59_11eb_8cfa_0242ac1c0002row3_col4,#T_49bee1e8_0a59_11eb_8cfa_0242ac1c0002row6_col4{\n",
              "            background-color:  #5875e1;\n",
              "            color:  #000000;\n",
              "        }#T_49bee1e8_0a59_11eb_8cfa_0242ac1c0002row3_col5{\n",
              "            background-color:  #edd1c2;\n",
              "            color:  #000000;\n",
              "        }#T_49bee1e8_0a59_11eb_8cfa_0242ac1c0002row3_col6,#T_49bee1e8_0a59_11eb_8cfa_0242ac1c0002row6_col3{\n",
              "            background-color:  #d4dbe6;\n",
              "            color:  #000000;\n",
              "        }#T_49bee1e8_0a59_11eb_8cfa_0242ac1c0002row3_col7{\n",
              "            background-color:  #dcdddd;\n",
              "            color:  #000000;\n",
              "        }#T_49bee1e8_0a59_11eb_8cfa_0242ac1c0002row3_col8,#T_49bee1e8_0a59_11eb_8cfa_0242ac1c0002row7_col5{\n",
              "            background-color:  #d5dbe5;\n",
              "            color:  #000000;\n",
              "        }#T_49bee1e8_0a59_11eb_8cfa_0242ac1c0002row3_col9,#T_49bee1e8_0a59_11eb_8cfa_0242ac1c0002row6_col10{\n",
              "            background-color:  #688aef;\n",
              "            color:  #000000;\n",
              "        }#T_49bee1e8_0a59_11eb_8cfa_0242ac1c0002row4_col0,#T_49bee1e8_0a59_11eb_8cfa_0242ac1c0002row5_col10{\n",
              "            background-color:  #88abfd;\n",
              "            color:  #000000;\n",
              "        }#T_49bee1e8_0a59_11eb_8cfa_0242ac1c0002row4_col1{\n",
              "            background-color:  #f59c7d;\n",
              "            color:  #000000;\n",
              "        }#T_49bee1e8_0a59_11eb_8cfa_0242ac1c0002row4_col7{\n",
              "            background-color:  #7699f6;\n",
              "            color:  #000000;\n",
              "        }#T_49bee1e8_0a59_11eb_8cfa_0242ac1c0002row4_col9,#T_49bee1e8_0a59_11eb_8cfa_0242ac1c0002row5_col9{\n",
              "            background-color:  #bcd2f7;\n",
              "            color:  #000000;\n",
              "        }#T_49bee1e8_0a59_11eb_8cfa_0242ac1c0002row4_col10,#T_49bee1e8_0a59_11eb_8cfa_0242ac1c0002row5_col2{\n",
              "            background-color:  #6c8ff1;\n",
              "            color:  #000000;\n",
              "        }#T_49bee1e8_0a59_11eb_8cfa_0242ac1c0002row5_col1{\n",
              "            background-color:  #7b9ff9;\n",
              "            color:  #000000;\n",
              "        }#T_49bee1e8_0a59_11eb_8cfa_0242ac1c0002row5_col3,#T_49bee1e8_0a59_11eb_8cfa_0242ac1c0002row6_col9{\n",
              "            background-color:  #e3d9d3;\n",
              "            color:  #000000;\n",
              "        }#T_49bee1e8_0a59_11eb_8cfa_0242ac1c0002row5_col6{\n",
              "            background-color:  #f5c4ac;\n",
              "            color:  #000000;\n",
              "        }#T_49bee1e8_0a59_11eb_8cfa_0242ac1c0002row5_col7{\n",
              "            background-color:  #cad8ef;\n",
              "            color:  #000000;\n",
              "        }#T_49bee1e8_0a59_11eb_8cfa_0242ac1c0002row5_col8{\n",
              "            background-color:  #afcafc;\n",
              "            color:  #000000;\n",
              "        }#T_49bee1e8_0a59_11eb_8cfa_0242ac1c0002row6_col0{\n",
              "            background-color:  #4961d2;\n",
              "            color:  #f1f1f1;\n",
              "        }#T_49bee1e8_0a59_11eb_8cfa_0242ac1c0002row6_col2{\n",
              "            background-color:  #85a8fc;\n",
              "            color:  #000000;\n",
              "        }#T_49bee1e8_0a59_11eb_8cfa_0242ac1c0002row6_col5{\n",
              "            background-color:  #f7b99e;\n",
              "            color:  #000000;\n",
              "        }#T_49bee1e8_0a59_11eb_8cfa_0242ac1c0002row6_col8,#T_49bee1e8_0a59_11eb_8cfa_0242ac1c0002row8_col10{\n",
              "            background-color:  #b1cbfc;\n",
              "            color:  #000000;\n",
              "        }#T_49bee1e8_0a59_11eb_8cfa_0242ac1c0002row7_col1,#T_49bee1e8_0a59_11eb_8cfa_0242ac1c0002row9_col7{\n",
              "            background-color:  #445acc;\n",
              "            color:  #f1f1f1;\n",
              "        }#T_49bee1e8_0a59_11eb_8cfa_0242ac1c0002row7_col2{\n",
              "            background-color:  #f4c6af;\n",
              "            color:  #000000;\n",
              "        }#T_49bee1e8_0a59_11eb_8cfa_0242ac1c0002row7_col3,#T_49bee1e8_0a59_11eb_8cfa_0242ac1c0002row10_col0{\n",
              "            background-color:  #d7dce3;\n",
              "            color:  #000000;\n",
              "        }#T_49bee1e8_0a59_11eb_8cfa_0242ac1c0002row7_col4{\n",
              "            background-color:  #89acfd;\n",
              "            color:  #000000;\n",
              "        }#T_49bee1e8_0a59_11eb_8cfa_0242ac1c0002row7_col6{\n",
              "            background-color:  #c3d5f4;\n",
              "            color:  #000000;\n",
              "        }#T_49bee1e8_0a59_11eb_8cfa_0242ac1c0002row7_col8{\n",
              "            background-color:  #d44e41;\n",
              "            color:  #000000;\n",
              "        }#T_49bee1e8_0a59_11eb_8cfa_0242ac1c0002row7_col9{\n",
              "            background-color:  #5470de;\n",
              "            color:  #000000;\n",
              "        }#T_49bee1e8_0a59_11eb_8cfa_0242ac1c0002row8_col0{\n",
              "            background-color:  #465ecf;\n",
              "            color:  #f1f1f1;\n",
              "        }#T_49bee1e8_0a59_11eb_8cfa_0242ac1c0002row8_col1{\n",
              "            background-color:  #6b8df0;\n",
              "            color:  #000000;\n",
              "        }#T_49bee1e8_0a59_11eb_8cfa_0242ac1c0002row8_col2{\n",
              "            background-color:  #f18d6f;\n",
              "            color:  #000000;\n",
              "        }#T_49bee1e8_0a59_11eb_8cfa_0242ac1c0002row8_col3{\n",
              "            background-color:  #c6d6f1;\n",
              "            color:  #000000;\n",
              "        }#T_49bee1e8_0a59_11eb_8cfa_0242ac1c0002row8_col4{\n",
              "            background-color:  #cbd8ee;\n",
              "            color:  #000000;\n",
              "        }#T_49bee1e8_0a59_11eb_8cfa_0242ac1c0002row8_col5,#T_49bee1e8_0a59_11eb_8cfa_0242ac1c0002row10_col5{\n",
              "            background-color:  #b2ccfb;\n",
              "            color:  #000000;\n",
              "        }#T_49bee1e8_0a59_11eb_8cfa_0242ac1c0002row8_col6{\n",
              "            background-color:  #9dbdff;\n",
              "            color:  #000000;\n",
              "        }#T_49bee1e8_0a59_11eb_8cfa_0242ac1c0002row8_col7{\n",
              "            background-color:  #d55042;\n",
              "            color:  #000000;\n",
              "        }#T_49bee1e8_0a59_11eb_8cfa_0242ac1c0002row9_col0,#T_49bee1e8_0a59_11eb_8cfa_0242ac1c0002row9_col4,#T_49bee1e8_0a59_11eb_8cfa_0242ac1c0002row9_col5{\n",
              "            background-color:  #bfd3f6;\n",
              "            color:  #000000;\n",
              "        }#T_49bee1e8_0a59_11eb_8cfa_0242ac1c0002row9_col1{\n",
              "            background-color:  #f2cbb7;\n",
              "            color:  #000000;\n",
              "        }#T_49bee1e8_0a59_11eb_8cfa_0242ac1c0002row9_col3,#T_49bee1e8_0a59_11eb_8cfa_0242ac1c0002row10_col1,#T_49bee1e8_0a59_11eb_8cfa_0242ac1c0002row10_col3{\n",
              "            background-color:  #4f69d9;\n",
              "            color:  #000000;\n",
              "        }#T_49bee1e8_0a59_11eb_8cfa_0242ac1c0002row9_col6{\n",
              "            background-color:  #d8dce2;\n",
              "            color:  #000000;\n",
              "        }#T_49bee1e8_0a59_11eb_8cfa_0242ac1c0002row10_col4{\n",
              "            background-color:  #9bbcff;\n",
              "            color:  #000000;\n",
              "        }#T_49bee1e8_0a59_11eb_8cfa_0242ac1c0002row10_col6{\n",
              "            background-color:  #7da0f9;\n",
              "            color:  #000000;\n",
              "        }#T_49bee1e8_0a59_11eb_8cfa_0242ac1c0002row10_col7{\n",
              "            background-color:  #e7d7ce;\n",
              "            color:  #000000;\n",
              "        }#T_49bee1e8_0a59_11eb_8cfa_0242ac1c0002row10_col9{\n",
              "            background-color:  #c7d7f0;\n",
              "            color:  #000000;\n",
              "        }</style><table id=\"T_49bee1e8_0a59_11eb_8cfa_0242ac1c0002\" ><thead>    <tr>        <th class=\"blank level0\" ></th>        <th class=\"col_heading level0 col0\" >d_gdp_growth</th>        <th class=\"col_heading level0 col1\" >d_inflation</th>        <th class=\"col_heading level0 col2\" >d_life_exp</th>        <th class=\"col_heading level0 col3\" >d_births</th>        <th class=\"col_heading level0 col4\" >d_crime_rate</th>        <th class=\"col_heading level0 col5\" >d_health_spends</th>        <th class=\"col_heading level0 col6\" >d_edu_spends</th>        <th class=\"col_heading level0 col7\" >d_welfare_spends</th>        <th class=\"col_heading level0 col8\" >d_unemp_rate</th>        <th class=\"col_heading level0 col9\" >cur_pres</th>        <th class=\"col_heading level0 col10\" >next_pres</th>    </tr></thead><tbody>\n",
              "                <tr>\n",
              "                        <th id=\"T_49bee1e8_0a59_11eb_8cfa_0242ac1c0002level0_row0\" class=\"row_heading level0 row0\" >d_gdp_growth</th>\n",
              "                        <td id=\"T_49bee1e8_0a59_11eb_8cfa_0242ac1c0002row0_col0\" class=\"data row0 col0\" >1.00</td>\n",
              "                        <td id=\"T_49bee1e8_0a59_11eb_8cfa_0242ac1c0002row0_col1\" class=\"data row0 col1\" >-0.24</td>\n",
              "                        <td id=\"T_49bee1e8_0a59_11eb_8cfa_0242ac1c0002row0_col2\" class=\"data row0 col2\" >-0.10</td>\n",
              "                        <td id=\"T_49bee1e8_0a59_11eb_8cfa_0242ac1c0002row0_col3\" class=\"data row0 col3\" >0.09</td>\n",
              "                        <td id=\"T_49bee1e8_0a59_11eb_8cfa_0242ac1c0002row0_col4\" class=\"data row0 col4\" >-0.16</td>\n",
              "                        <td id=\"T_49bee1e8_0a59_11eb_8cfa_0242ac1c0002row0_col5\" class=\"data row0 col5\" >-0.12</td>\n",
              "                        <td id=\"T_49bee1e8_0a59_11eb_8cfa_0242ac1c0002row0_col6\" class=\"data row0 col6\" >-0.45</td>\n",
              "                        <td id=\"T_49bee1e8_0a59_11eb_8cfa_0242ac1c0002row0_col7\" class=\"data row0 col7\" >-0.52</td>\n",
              "                        <td id=\"T_49bee1e8_0a59_11eb_8cfa_0242ac1c0002row0_col8\" class=\"data row0 col8\" >-0.46</td>\n",
              "                        <td id=\"T_49bee1e8_0a59_11eb_8cfa_0242ac1c0002row0_col9\" class=\"data row0 col9\" >0.08</td>\n",
              "                        <td id=\"T_49bee1e8_0a59_11eb_8cfa_0242ac1c0002row0_col10\" class=\"data row0 col10\" >0.20</td>\n",
              "            </tr>\n",
              "            <tr>\n",
              "                        <th id=\"T_49bee1e8_0a59_11eb_8cfa_0242ac1c0002level0_row1\" class=\"row_heading level0 row1\" >d_inflation</th>\n",
              "                        <td id=\"T_49bee1e8_0a59_11eb_8cfa_0242ac1c0002row1_col0\" class=\"data row1 col0\" >-0.24</td>\n",
              "                        <td id=\"T_49bee1e8_0a59_11eb_8cfa_0242ac1c0002row1_col1\" class=\"data row1 col1\" >1.00</td>\n",
              "                        <td id=\"T_49bee1e8_0a59_11eb_8cfa_0242ac1c0002row1_col2\" class=\"data row1 col2\" >-0.02</td>\n",
              "                        <td id=\"T_49bee1e8_0a59_11eb_8cfa_0242ac1c0002row1_col3\" class=\"data row1 col3\" >-0.43</td>\n",
              "                        <td id=\"T_49bee1e8_0a59_11eb_8cfa_0242ac1c0002row1_col4\" class=\"data row1 col4\" >0.63</td>\n",
              "                        <td id=\"T_49bee1e8_0a59_11eb_8cfa_0242ac1c0002row1_col5\" class=\"data row1 col5\" >-0.14</td>\n",
              "                        <td id=\"T_49bee1e8_0a59_11eb_8cfa_0242ac1c0002row1_col6\" class=\"data row1 col6\" >-0.08</td>\n",
              "                        <td id=\"T_49bee1e8_0a59_11eb_8cfa_0242ac1c0002row1_col7\" class=\"data row1 col7\" >-0.39</td>\n",
              "                        <td id=\"T_49bee1e8_0a59_11eb_8cfa_0242ac1c0002row1_col8\" class=\"data row1 col8\" >-0.21</td>\n",
              "                        <td id=\"T_49bee1e8_0a59_11eb_8cfa_0242ac1c0002row1_col9\" class=\"data row1 col9\" >0.43</td>\n",
              "                        <td id=\"T_49bee1e8_0a59_11eb_8cfa_0242ac1c0002row1_col10\" class=\"data row1 col10\" >-0.33</td>\n",
              "            </tr>\n",
              "            <tr>\n",
              "                        <th id=\"T_49bee1e8_0a59_11eb_8cfa_0242ac1c0002level0_row2\" class=\"row_heading level0 row2\" >d_life_exp</th>\n",
              "                        <td id=\"T_49bee1e8_0a59_11eb_8cfa_0242ac1c0002row2_col0\" class=\"data row2 col0\" >-0.10</td>\n",
              "                        <td id=\"T_49bee1e8_0a59_11eb_8cfa_0242ac1c0002row2_col1\" class=\"data row2 col1\" >-0.02</td>\n",
              "                        <td id=\"T_49bee1e8_0a59_11eb_8cfa_0242ac1c0002row2_col2\" class=\"data row2 col2\" >1.00</td>\n",
              "                        <td id=\"T_49bee1e8_0a59_11eb_8cfa_0242ac1c0002row2_col3\" class=\"data row2 col3\" >0.19</td>\n",
              "                        <td id=\"T_49bee1e8_0a59_11eb_8cfa_0242ac1c0002row2_col4\" class=\"data row2 col4\" >0.17</td>\n",
              "                        <td id=\"T_49bee1e8_0a59_11eb_8cfa_0242ac1c0002row2_col5\" class=\"data row2 col5\" >-0.27</td>\n",
              "                        <td id=\"T_49bee1e8_0a59_11eb_8cfa_0242ac1c0002row2_col6\" class=\"data row2 col6\" >-0.16</td>\n",
              "                        <td id=\"T_49bee1e8_0a59_11eb_8cfa_0242ac1c0002row2_col7\" class=\"data row2 col7\" >0.43</td>\n",
              "                        <td id=\"T_49bee1e8_0a59_11eb_8cfa_0242ac1c0002row2_col8\" class=\"data row2 col8\" >0.67</td>\n",
              "                        <td id=\"T_49bee1e8_0a59_11eb_8cfa_0242ac1c0002row2_col9\" class=\"data row2 col9\" >-0.51</td>\n",
              "                        <td id=\"T_49bee1e8_0a59_11eb_8cfa_0242ac1c0002row2_col10\" class=\"data row2 col10\" >-0.02</td>\n",
              "            </tr>\n",
              "            <tr>\n",
              "                        <th id=\"T_49bee1e8_0a59_11eb_8cfa_0242ac1c0002level0_row3\" class=\"row_heading level0 row3\" >d_births</th>\n",
              "                        <td id=\"T_49bee1e8_0a59_11eb_8cfa_0242ac1c0002row3_col0\" class=\"data row3 col0\" >0.09</td>\n",
              "                        <td id=\"T_49bee1e8_0a59_11eb_8cfa_0242ac1c0002row3_col1\" class=\"data row3 col1\" >-0.43</td>\n",
              "                        <td id=\"T_49bee1e8_0a59_11eb_8cfa_0242ac1c0002row3_col2\" class=\"data row3 col2\" >0.19</td>\n",
              "                        <td id=\"T_49bee1e8_0a59_11eb_8cfa_0242ac1c0002row3_col3\" class=\"data row3 col3\" >1.00</td>\n",
              "                        <td id=\"T_49bee1e8_0a59_11eb_8cfa_0242ac1c0002row3_col4\" class=\"data row3 col4\" >-0.47</td>\n",
              "                        <td id=\"T_49bee1e8_0a59_11eb_8cfa_0242ac1c0002row3_col5\" class=\"data row3 col5\" >0.30</td>\n",
              "                        <td id=\"T_49bee1e8_0a59_11eb_8cfa_0242ac1c0002row3_col6\" class=\"data row3 col6\" >0.22</td>\n",
              "                        <td id=\"T_49bee1e8_0a59_11eb_8cfa_0242ac1c0002row3_col7\" class=\"data row3 col7\" >0.23</td>\n",
              "                        <td id=\"T_49bee1e8_0a59_11eb_8cfa_0242ac1c0002row3_col8\" class=\"data row3 col8\" >0.15</td>\n",
              "                        <td id=\"T_49bee1e8_0a59_11eb_8cfa_0242ac1c0002row3_col9\" class=\"data row3 col9\" >-0.37</td>\n",
              "                        <td id=\"T_49bee1e8_0a59_11eb_8cfa_0242ac1c0002row3_col10\" class=\"data row3 col10\" >-0.37</td>\n",
              "            </tr>\n",
              "            <tr>\n",
              "                        <th id=\"T_49bee1e8_0a59_11eb_8cfa_0242ac1c0002level0_row4\" class=\"row_heading level0 row4\" >d_crime_rate</th>\n",
              "                        <td id=\"T_49bee1e8_0a59_11eb_8cfa_0242ac1c0002row4_col0\" class=\"data row4 col0\" >-0.16</td>\n",
              "                        <td id=\"T_49bee1e8_0a59_11eb_8cfa_0242ac1c0002row4_col1\" class=\"data row4 col1\" >0.63</td>\n",
              "                        <td id=\"T_49bee1e8_0a59_11eb_8cfa_0242ac1c0002row4_col2\" class=\"data row4 col2\" >0.17</td>\n",
              "                        <td id=\"T_49bee1e8_0a59_11eb_8cfa_0242ac1c0002row4_col3\" class=\"data row4 col3\" >-0.47</td>\n",
              "                        <td id=\"T_49bee1e8_0a59_11eb_8cfa_0242ac1c0002row4_col4\" class=\"data row4 col4\" >1.00</td>\n",
              "                        <td id=\"T_49bee1e8_0a59_11eb_8cfa_0242ac1c0002row4_col5\" class=\"data row4 col5\" >-0.63</td>\n",
              "                        <td id=\"T_49bee1e8_0a59_11eb_8cfa_0242ac1c0002row4_col6\" class=\"data row4 col6\" >-0.47</td>\n",
              "                        <td id=\"T_49bee1e8_0a59_11eb_8cfa_0242ac1c0002row4_col7\" class=\"data row4 col7\" >-0.24</td>\n",
              "                        <td id=\"T_49bee1e8_0a59_11eb_8cfa_0242ac1c0002row4_col8\" class=\"data row4 col8\" >0.08</td>\n",
              "                        <td id=\"T_49bee1e8_0a59_11eb_8cfa_0242ac1c0002row4_col9\" class=\"data row4 col9\" >0.02</td>\n",
              "                        <td id=\"T_49bee1e8_0a59_11eb_8cfa_0242ac1c0002row4_col10\" class=\"data row4 col10\" >-0.15</td>\n",
              "            </tr>\n",
              "            <tr>\n",
              "                        <th id=\"T_49bee1e8_0a59_11eb_8cfa_0242ac1c0002level0_row5\" class=\"row_heading level0 row5\" >d_health_spends</th>\n",
              "                        <td id=\"T_49bee1e8_0a59_11eb_8cfa_0242ac1c0002row5_col0\" class=\"data row5 col0\" >-0.12</td>\n",
              "                        <td id=\"T_49bee1e8_0a59_11eb_8cfa_0242ac1c0002row5_col1\" class=\"data row5 col1\" >-0.14</td>\n",
              "                        <td id=\"T_49bee1e8_0a59_11eb_8cfa_0242ac1c0002row5_col2\" class=\"data row5 col2\" >-0.27</td>\n",
              "                        <td id=\"T_49bee1e8_0a59_11eb_8cfa_0242ac1c0002row5_col3\" class=\"data row5 col3\" >0.30</td>\n",
              "                        <td id=\"T_49bee1e8_0a59_11eb_8cfa_0242ac1c0002row5_col4\" class=\"data row5 col4\" >-0.63</td>\n",
              "                        <td id=\"T_49bee1e8_0a59_11eb_8cfa_0242ac1c0002row5_col5\" class=\"data row5 col5\" >1.00</td>\n",
              "                        <td id=\"T_49bee1e8_0a59_11eb_8cfa_0242ac1c0002row5_col6\" class=\"data row5 col6\" >0.45</td>\n",
              "                        <td id=\"T_49bee1e8_0a59_11eb_8cfa_0242ac1c0002row5_col7\" class=\"data row5 col7\" >0.13</td>\n",
              "                        <td id=\"T_49bee1e8_0a59_11eb_8cfa_0242ac1c0002row5_col8\" class=\"data row5 col8\" >-0.04</td>\n",
              "                        <td id=\"T_49bee1e8_0a59_11eb_8cfa_0242ac1c0002row5_col9\" class=\"data row5 col9\" >0.01</td>\n",
              "                        <td id=\"T_49bee1e8_0a59_11eb_8cfa_0242ac1c0002row5_col10\" class=\"data row5 col10\" >-0.05</td>\n",
              "            </tr>\n",
              "            <tr>\n",
              "                        <th id=\"T_49bee1e8_0a59_11eb_8cfa_0242ac1c0002level0_row6\" class=\"row_heading level0 row6\" >d_edu_spends</th>\n",
              "                        <td id=\"T_49bee1e8_0a59_11eb_8cfa_0242ac1c0002row6_col0\" class=\"data row6 col0\" >-0.45</td>\n",
              "                        <td id=\"T_49bee1e8_0a59_11eb_8cfa_0242ac1c0002row6_col1\" class=\"data row6 col1\" >-0.08</td>\n",
              "                        <td id=\"T_49bee1e8_0a59_11eb_8cfa_0242ac1c0002row6_col2\" class=\"data row6 col2\" >-0.16</td>\n",
              "                        <td id=\"T_49bee1e8_0a59_11eb_8cfa_0242ac1c0002row6_col3\" class=\"data row6 col3\" >0.22</td>\n",
              "                        <td id=\"T_49bee1e8_0a59_11eb_8cfa_0242ac1c0002row6_col4\" class=\"data row6 col4\" >-0.47</td>\n",
              "                        <td id=\"T_49bee1e8_0a59_11eb_8cfa_0242ac1c0002row6_col5\" class=\"data row6 col5\" >0.45</td>\n",
              "                        <td id=\"T_49bee1e8_0a59_11eb_8cfa_0242ac1c0002row6_col6\" class=\"data row6 col6\" >1.00</td>\n",
              "                        <td id=\"T_49bee1e8_0a59_11eb_8cfa_0242ac1c0002row6_col7\" class=\"data row6 col7\" >0.13</td>\n",
              "                        <td id=\"T_49bee1e8_0a59_11eb_8cfa_0242ac1c0002row6_col8\" class=\"data row6 col8\" >-0.04</td>\n",
              "                        <td id=\"T_49bee1e8_0a59_11eb_8cfa_0242ac1c0002row6_col9\" class=\"data row6 col9\" >0.24</td>\n",
              "                        <td id=\"T_49bee1e8_0a59_11eb_8cfa_0242ac1c0002row6_col10\" class=\"data row6 col10\" >-0.17</td>\n",
              "            </tr>\n",
              "            <tr>\n",
              "                        <th id=\"T_49bee1e8_0a59_11eb_8cfa_0242ac1c0002level0_row7\" class=\"row_heading level0 row7\" >d_welfare_spends</th>\n",
              "                        <td id=\"T_49bee1e8_0a59_11eb_8cfa_0242ac1c0002row7_col0\" class=\"data row7 col0\" >-0.52</td>\n",
              "                        <td id=\"T_49bee1e8_0a59_11eb_8cfa_0242ac1c0002row7_col1\" class=\"data row7 col1\" >-0.39</td>\n",
              "                        <td id=\"T_49bee1e8_0a59_11eb_8cfa_0242ac1c0002row7_col2\" class=\"data row7 col2\" >0.43</td>\n",
              "                        <td id=\"T_49bee1e8_0a59_11eb_8cfa_0242ac1c0002row7_col3\" class=\"data row7 col3\" >0.23</td>\n",
              "                        <td id=\"T_49bee1e8_0a59_11eb_8cfa_0242ac1c0002row7_col4\" class=\"data row7 col4\" >-0.24</td>\n",
              "                        <td id=\"T_49bee1e8_0a59_11eb_8cfa_0242ac1c0002row7_col5\" class=\"data row7 col5\" >0.13</td>\n",
              "                        <td id=\"T_49bee1e8_0a59_11eb_8cfa_0242ac1c0002row7_col6\" class=\"data row7 col6\" >0.13</td>\n",
              "                        <td id=\"T_49bee1e8_0a59_11eb_8cfa_0242ac1c0002row7_col7\" class=\"data row7 col7\" >1.00</td>\n",
              "                        <td id=\"T_49bee1e8_0a59_11eb_8cfa_0242ac1c0002row7_col8\" class=\"data row7 col8\" >0.85</td>\n",
              "                        <td id=\"T_49bee1e8_0a59_11eb_8cfa_0242ac1c0002row7_col9\" class=\"data row7 col9\" >-0.48</td>\n",
              "                        <td id=\"T_49bee1e8_0a59_11eb_8cfa_0242ac1c0002row7_col10\" class=\"data row7 col10\" >0.30</td>\n",
              "            </tr>\n",
              "            <tr>\n",
              "                        <th id=\"T_49bee1e8_0a59_11eb_8cfa_0242ac1c0002level0_row8\" class=\"row_heading level0 row8\" >d_unemp_rate</th>\n",
              "                        <td id=\"T_49bee1e8_0a59_11eb_8cfa_0242ac1c0002row8_col0\" class=\"data row8 col0\" >-0.46</td>\n",
              "                        <td id=\"T_49bee1e8_0a59_11eb_8cfa_0242ac1c0002row8_col1\" class=\"data row8 col1\" >-0.21</td>\n",
              "                        <td id=\"T_49bee1e8_0a59_11eb_8cfa_0242ac1c0002row8_col2\" class=\"data row8 col2\" >0.67</td>\n",
              "                        <td id=\"T_49bee1e8_0a59_11eb_8cfa_0242ac1c0002row8_col3\" class=\"data row8 col3\" >0.15</td>\n",
              "                        <td id=\"T_49bee1e8_0a59_11eb_8cfa_0242ac1c0002row8_col4\" class=\"data row8 col4\" >0.08</td>\n",
              "                        <td id=\"T_49bee1e8_0a59_11eb_8cfa_0242ac1c0002row8_col5\" class=\"data row8 col5\" >-0.04</td>\n",
              "                        <td id=\"T_49bee1e8_0a59_11eb_8cfa_0242ac1c0002row8_col6\" class=\"data row8 col6\" >-0.04</td>\n",
              "                        <td id=\"T_49bee1e8_0a59_11eb_8cfa_0242ac1c0002row8_col7\" class=\"data row8 col7\" >0.85</td>\n",
              "                        <td id=\"T_49bee1e8_0a59_11eb_8cfa_0242ac1c0002row8_col8\" class=\"data row8 col8\" >1.00</td>\n",
              "                        <td id=\"T_49bee1e8_0a59_11eb_8cfa_0242ac1c0002row8_col9\" class=\"data row8 col9\" >-0.61</td>\n",
              "                        <td id=\"T_49bee1e8_0a59_11eb_8cfa_0242ac1c0002row8_col10\" class=\"data row8 col10\" >0.12</td>\n",
              "            </tr>\n",
              "            <tr>\n",
              "                        <th id=\"T_49bee1e8_0a59_11eb_8cfa_0242ac1c0002level0_row9\" class=\"row_heading level0 row9\" >cur_pres</th>\n",
              "                        <td id=\"T_49bee1e8_0a59_11eb_8cfa_0242ac1c0002row9_col0\" class=\"data row9 col0\" >0.08</td>\n",
              "                        <td id=\"T_49bee1e8_0a59_11eb_8cfa_0242ac1c0002row9_col1\" class=\"data row9 col1\" >0.43</td>\n",
              "                        <td id=\"T_49bee1e8_0a59_11eb_8cfa_0242ac1c0002row9_col2\" class=\"data row9 col2\" >-0.51</td>\n",
              "                        <td id=\"T_49bee1e8_0a59_11eb_8cfa_0242ac1c0002row9_col3\" class=\"data row9 col3\" >-0.37</td>\n",
              "                        <td id=\"T_49bee1e8_0a59_11eb_8cfa_0242ac1c0002row9_col4\" class=\"data row9 col4\" >0.02</td>\n",
              "                        <td id=\"T_49bee1e8_0a59_11eb_8cfa_0242ac1c0002row9_col5\" class=\"data row9 col5\" >0.01</td>\n",
              "                        <td id=\"T_49bee1e8_0a59_11eb_8cfa_0242ac1c0002row9_col6\" class=\"data row9 col6\" >0.24</td>\n",
              "                        <td id=\"T_49bee1e8_0a59_11eb_8cfa_0242ac1c0002row9_col7\" class=\"data row9 col7\" >-0.48</td>\n",
              "                        <td id=\"T_49bee1e8_0a59_11eb_8cfa_0242ac1c0002row9_col8\" class=\"data row9 col8\" >-0.61</td>\n",
              "                        <td id=\"T_49bee1e8_0a59_11eb_8cfa_0242ac1c0002row9_col9\" class=\"data row9 col9\" >1.00</td>\n",
              "                        <td id=\"T_49bee1e8_0a59_11eb_8cfa_0242ac1c0002row9_col10\" class=\"data row9 col10\" >0.07</td>\n",
              "            </tr>\n",
              "            <tr>\n",
              "                        <th id=\"T_49bee1e8_0a59_11eb_8cfa_0242ac1c0002level0_row10\" class=\"row_heading level0 row10\" >next_pres</th>\n",
              "                        <td id=\"T_49bee1e8_0a59_11eb_8cfa_0242ac1c0002row10_col0\" class=\"data row10 col0\" >0.20</td>\n",
              "                        <td id=\"T_49bee1e8_0a59_11eb_8cfa_0242ac1c0002row10_col1\" class=\"data row10 col1\" >-0.33</td>\n",
              "                        <td id=\"T_49bee1e8_0a59_11eb_8cfa_0242ac1c0002row10_col2\" class=\"data row10 col2\" >-0.02</td>\n",
              "                        <td id=\"T_49bee1e8_0a59_11eb_8cfa_0242ac1c0002row10_col3\" class=\"data row10 col3\" >-0.37</td>\n",
              "                        <td id=\"T_49bee1e8_0a59_11eb_8cfa_0242ac1c0002row10_col4\" class=\"data row10 col4\" >-0.15</td>\n",
              "                        <td id=\"T_49bee1e8_0a59_11eb_8cfa_0242ac1c0002row10_col5\" class=\"data row10 col5\" >-0.05</td>\n",
              "                        <td id=\"T_49bee1e8_0a59_11eb_8cfa_0242ac1c0002row10_col6\" class=\"data row10 col6\" >-0.17</td>\n",
              "                        <td id=\"T_49bee1e8_0a59_11eb_8cfa_0242ac1c0002row10_col7\" class=\"data row10 col7\" >0.30</td>\n",
              "                        <td id=\"T_49bee1e8_0a59_11eb_8cfa_0242ac1c0002row10_col8\" class=\"data row10 col8\" >0.12</td>\n",
              "                        <td id=\"T_49bee1e8_0a59_11eb_8cfa_0242ac1c0002row10_col9\" class=\"data row10 col9\" >0.07</td>\n",
              "                        <td id=\"T_49bee1e8_0a59_11eb_8cfa_0242ac1c0002row10_col10\" class=\"data row10 col10\" >1.00</td>\n",
              "            </tr>\n",
              "    </tbody></table>"
            ],
            "text/plain": [
              "<pandas.io.formats.style.Styler at 0x7fdf2c2a8b00>"
            ]
          },
          "metadata": {
            "tags": []
          },
          "execution_count": 35
        }
      ]
    },
    {
      "cell_type": "markdown",
      "metadata": {
        "id": "impSTj3SVfZE"
      },
      "source": [
        "It can be seen that the pair *diff. of welfare spendings* and *diff. of unemployment rate*\thas high correlation. This can de explained by the fact that welfare spendings include the unemployment allowance. Hence, when unemployment rises, welfare spendings increases as well. However, there is no correlation with the target value (*next_pres*)."
      ]
    },
    {
      "cell_type": "code",
      "metadata": {
        "id": "cabHn6VqekAk"
      },
      "source": [
        "# one-hot-encoding for cur_pres column\n",
        "\n",
        "pres_dataset = pd.get_dummies(pres_dataset, columns=['cur_pres'])"
      ],
      "execution_count": 36,
      "outputs": []
    },
    {
      "cell_type": "code",
      "metadata": {
        "id": "W1_Pe6cRtQ7Y"
      },
      "source": [
        "# separate target value from whole dataset and remove highly corr. features\n",
        "\n",
        "target_value = np.array(pres_dataset['next_pres'])\n",
        "pres_dataset = pres_dataset.drop(['next_pres'], axis=1)\n",
        "pres_dataset_linear = pres_dataset.drop(['d_welfare_spends'], axis=1)"
      ],
      "execution_count": 37,
      "outputs": []
    },
    {
      "cell_type": "markdown",
      "metadata": {
        "id": "JxYYDymAWpRr"
      },
      "source": [
        "Let us scale features into the interval (0, 1) using MinMaxScaler."
      ]
    },
    {
      "cell_type": "code",
      "metadata": {
        "id": "pzv1SuFbotrA"
      },
      "source": [
        "scaler = MinMaxScaler()\n",
        "pres_dataset_scaled = scaler.fit_transform(pres_dataset)\n",
        "pres_dataset_linear_scaled = scaler.fit_transform(pres_dataset_linear)"
      ],
      "execution_count": 38,
      "outputs": []
    },
    {
      "cell_type": "markdown",
      "metadata": {
        "id": "dCla8RW3NuFO"
      },
      "source": [
        "### 2.2 Data augmentation"
      ]
    },
    {
      "cell_type": "markdown",
      "metadata": {
        "id": "2sw1LOEtacNh"
      },
      "source": [
        "Let us give a short description of the SMOTe algorithm. \n",
        "\n",
        "Algorithm for given k:\n",
        "1. Take a random object of one class.\n",
        "2. Find it’s *k*-th nearest neighbor of the same class (e.g. using KNN-algorithm).\n",
        "3. Take a random point between chosen object (from the 1 step) and it’s k-th nearest neighbor.\n"
      ]
    },
    {
      "cell_type": "code",
      "metadata": {
        "id": "l5pvgB8F5deG"
      },
      "source": [
        "class SMOTE_augmentation():\n",
        "    def __init__(self, k=3, N=10):\n",
        "        # k - sets the k-th nearest neighbor\n",
        "        # N - sets the amount of generated objects for each class\n",
        "\n",
        "        self.k = k\n",
        "        self.N = N\n",
        "\n",
        "    def generate_for_one(self, X, y):\n",
        "        neigh = NearestNeighbors(n_neighbors=self.k).fit(np.array(X))\n",
        "        new_points = []\n",
        "\n",
        "        for i in range(self.N):\n",
        "            rand_ind = np.random.randint(len(X))\n",
        "            dists, ns = neigh.kneighbors([X[rand_ind]])\n",
        "            rand_neighbor = np.random.randint(1, self.k)\n",
        "            coef = np.random.random(1)[0]\n",
        "            new_point = X[rand_ind] - (X[rand_ind] - X[ns[0][rand_neighbor]]) * coef\n",
        "            new_points.append(new_point)\n",
        "        \n",
        "        return np.concatenate((X, np.array(new_points))), np.concatenate((y, y[0]*np.ones(self.N)))\n",
        "\n",
        "    def generate_data(self, X, y):\n",
        "        first_class = X[y == 1]\n",
        "        second_class = X[y == 0]\n",
        "\n",
        "        X_1, y_1 = self.generate_for_one(first_class, y[y == 1])\n",
        "        X_2, y_2 = self.generate_for_one(second_class, y[y == 0])\n",
        "\n",
        "        return np.concatenate((X_1, X_2)), np.concatenate((y_1, y_2))"
      ],
      "execution_count": 808,
      "outputs": []
    },
    {
      "cell_type": "markdown",
      "metadata": {
        "id": "oeMwAZxjc3l3"
      },
      "source": [
        "Let's upsample the datasets to about 100 objects. It is still a small amount of data, but generating more synthetic data can cause a bias in it."
      ]
    },
    {
      "cell_type": "code",
      "metadata": {
        "id": "XLOS7Ti8sFej"
      },
      "source": [
        "augment = SMOTE_augmentation(k=5, N=35)\n",
        "\n",
        "x_aug, y_aug = augment.generate_data(pres_dataset_scaled, target_value)\n",
        "x_aug_lin, y_aug_lin = augment.generate_data(pres_dataset_linear_scaled, \n",
        "                                             target_value)"
      ],
      "execution_count": 813,
      "outputs": []
    },
    {
      "cell_type": "markdown",
      "metadata": {
        "id": "eXq23DkiaPuO"
      },
      "source": [
        "## 3. Training"
      ]
    },
    {
      "cell_type": "markdown",
      "metadata": {
        "id": "sIP0jlVZh6Uk"
      },
      "source": [
        "5 classical machine learning classifiers are used in this work:\n",
        "\n",
        "1. Logistic regression (*LogReg*)\n",
        "2. Support Vector Machine (*SVM*)\n",
        "3. Multi-layer Perceptron (*MLP*)\n",
        "4. Decision Tree (*DT*)\n",
        "5. K-nearest neighbors (*KNN*)\n",
        "\n",
        "The most appropriate parameters will be selected using *Grid-search* method with *Cross-validation* on 5 folds. Set of possible parameters is defined for each classifier. *F1-score* is chosen as an optimizing metric since it is stable to different amount of opposite classes. The *LogReg* model will be trained on data without high correlations."
      ]
    },
    {
      "cell_type": "code",
      "metadata": {
        "id": "-uzqP1Phj16D"
      },
      "source": [
        "def f1_scorer():\n",
        "    return make_scorer(f1_score)\n",
        "\n",
        "def Grid_search_trainig(clf, params, x=x_aug, y=y_aug, scorer=f1_scorer(), cv=5):\n",
        "    grid_clf = GridSearchCV(clf[0], params, cv=cv, scoring=scorer)\n",
        "    grid_clf.fit(x, y)\n",
        "    best_clf = grid_clf.best_estimator_\n",
        "    return (best_clf, clf[1])\n",
        "\n",
        "params = [\n",
        "          {'C':[1e-2, 1e-1, 1, 5]},\n",
        "          {'C':[1e-2, 1e-1, 1, 5]},\n",
        "          {'hidden_layer_sizes': [(4,), (8,), (8, 4), (16, 8, 4,)], \n",
        "           'activation' : ['relu', 'logistic'],\n",
        "           'solver' : ['lbfgs', 'sgd', 'adam'],\n",
        "           'alpha' : [1e-2, 1e-1, 1, 5]},\n",
        "          {'criterion': ['gini', 'entropy'], \n",
        "           'splitter' : ['best', 'random'],\n",
        "           'min_samples_leaf' : [1, 2, 5],\n",
        "           'max_depth' : [None, 2, 5]}, \n",
        "          {'n_neighbors': [3, 5, 7], \n",
        "           'algorithm':['ball_tree', 'kd_tree', 'brute']}\n",
        "]\n",
        "\n",
        "cls = [\n",
        "       (LogisticRegression(), 'LogReg'), \n",
        "       (SVC(probability=True), 'SVM'),\n",
        "       (MLPClassifier(), 'MLP'),\n",
        "       (DecisionTreeClassifier(), 'DT'),\n",
        "       (KNeighborsClassifier(), 'KNN')\n",
        "]\n",
        "\n",
        "best_clfs = []\n",
        "\n",
        "for clf, params in zip(cls, params):\n",
        "    if clf[1] == 'LogReg':\n",
        "        best_clfs.append(Grid_search_trainig(clf, params, x_aug_lin, y_aug_lin))\n",
        "    else:\n",
        "        best_clfs.append(Grid_search_trainig(clf, params))"
      ],
      "execution_count": 814,
      "outputs": []
    },
    {
      "cell_type": "markdown",
      "metadata": {
        "id": "MXpCn10JkrFI"
      },
      "source": [
        "## 4. Testing"
      ]
    },
    {
      "cell_type": "markdown",
      "metadata": {
        "id": "qyAHgHjCpplc"
      },
      "source": [
        "At this stage, all classifiers with most appropriate parameters will be compared. The entire dataset is divided into two parts: training and testing (in relation 7:3). Classifiers are trained on the first part, and then quality is checked on the second one. The best model will be used in the future prediction of the next president. The values of *precision*, *recall* and accuracy metrics will be compared in addition to *F1-score*. "
      ]
    },
    {
      "cell_type": "code",
      "metadata": {
        "id": "7Pbsjtc6s-rl"
      },
      "source": [
        "# split data\n",
        "\n",
        "X_train, X_test, y_train, y_test = train_test_split(x_aug, y_aug, test_size=0.3)\n",
        "X_train_lin, X_test_lin, y_train_lin, y_test_lin = train_test_split(x_aug_lin, \n",
        "                                                                    y_aug_lin, \n",
        "                                                                    test_size=0.3)"
      ],
      "execution_count": 821,
      "outputs": []
    },
    {
      "cell_type": "code",
      "metadata": {
        "id": "fmerpLyz-sbq",
        "outputId": "0cc44714-17bc-49c2-8517-26945c717644",
        "colab": {
          "base_uri": "https://localhost:8080/",
          "height": 235
        }
      },
      "source": [
        "# compare classifiers\n",
        "\n",
        "def compare_models(models):\n",
        "    presicion, recall, f1, accuracy, methods = [], [], [], [], []\n",
        "\n",
        "    for model in models:\n",
        "        if model[1] == 'LogReg':\n",
        "            clf = model[0].fit(X_train_lin, y_train_lin)\n",
        "            presicion.append(precision_score(y_test_lin, clf.predict(X_test_lin)))\n",
        "            recall.append(recall_score(y_test_lin, clf.predict(X_test_lin)))\n",
        "            f1.append(f1_score(y_test_lin, clf.predict(X_test_lin)))\n",
        "            accuracy.append(accuracy_score(y_test_lin, clf.predict(X_test_lin)))\n",
        "        else:\n",
        "            clf = model[0].fit(X_train, y_train)\n",
        "            presicion.append(precision_score(y_test, clf.predict(X_test)))\n",
        "            recall.append(recall_score(y_test, clf.predict(X_test)))\n",
        "            f1.append(f1_score(y_test, clf.predict(X_test)))\n",
        "            accuracy.append(accuracy_score(y_test, clf.predict(X_test)))\n",
        "        methods.append(model[1])\n",
        "\n",
        "    comp_table = pd.DataFrame({'Precision' : presicion, \n",
        "                                'Recall' : recall, \n",
        "                                'F1-score' : f1, \n",
        "                                'Accuracy' : accuracy,\n",
        "                                'Method' : methods})\n",
        "    comp_table = comp_table.set_index('Method')\n",
        "    return comp_table\n",
        "  \n",
        "compare_models(best_clfs)"
      ],
      "execution_count": 822,
      "outputs": [
        {
          "output_type": "execute_result",
          "data": {
            "text/html": [
              "<div>\n",
              "<style scoped>\n",
              "    .dataframe tbody tr th:only-of-type {\n",
              "        vertical-align: middle;\n",
              "    }\n",
              "\n",
              "    .dataframe tbody tr th {\n",
              "        vertical-align: top;\n",
              "    }\n",
              "\n",
              "    .dataframe thead th {\n",
              "        text-align: right;\n",
              "    }\n",
              "</style>\n",
              "<table border=\"1\" class=\"dataframe\">\n",
              "  <thead>\n",
              "    <tr style=\"text-align: right;\">\n",
              "      <th></th>\n",
              "      <th>Precision</th>\n",
              "      <th>Recall</th>\n",
              "      <th>F1-score</th>\n",
              "      <th>Accuracy</th>\n",
              "    </tr>\n",
              "    <tr>\n",
              "      <th>Method</th>\n",
              "      <th></th>\n",
              "      <th></th>\n",
              "      <th></th>\n",
              "      <th></th>\n",
              "    </tr>\n",
              "  </thead>\n",
              "  <tbody>\n",
              "    <tr>\n",
              "      <th>LogReg</th>\n",
              "      <td>0.785714</td>\n",
              "      <td>0.916667</td>\n",
              "      <td>0.846154</td>\n",
              "      <td>0.846154</td>\n",
              "    </tr>\n",
              "    <tr>\n",
              "      <th>SVM</th>\n",
              "      <td>0.933333</td>\n",
              "      <td>1.000000</td>\n",
              "      <td>0.965517</td>\n",
              "      <td>0.961538</td>\n",
              "    </tr>\n",
              "    <tr>\n",
              "      <th>MLP</th>\n",
              "      <td>0.714286</td>\n",
              "      <td>0.714286</td>\n",
              "      <td>0.714286</td>\n",
              "      <td>0.692308</td>\n",
              "    </tr>\n",
              "    <tr>\n",
              "      <th>DT</th>\n",
              "      <td>0.875000</td>\n",
              "      <td>1.000000</td>\n",
              "      <td>0.933333</td>\n",
              "      <td>0.923077</td>\n",
              "    </tr>\n",
              "    <tr>\n",
              "      <th>KNN</th>\n",
              "      <td>0.875000</td>\n",
              "      <td>1.000000</td>\n",
              "      <td>0.933333</td>\n",
              "      <td>0.923077</td>\n",
              "    </tr>\n",
              "  </tbody>\n",
              "</table>\n",
              "</div>"
            ],
            "text/plain": [
              "        Precision    Recall  F1-score  Accuracy\n",
              "Method                                         \n",
              "LogReg   0.785714  0.916667  0.846154  0.846154\n",
              "SVM      0.933333  1.000000  0.965517  0.961538\n",
              "MLP      0.714286  0.714286  0.714286  0.692308\n",
              "DT       0.875000  1.000000  0.933333  0.923077\n",
              "KNN      0.875000  1.000000  0.933333  0.923077"
            ]
          },
          "metadata": {
            "tags": []
          },
          "execution_count": 822
        }
      ]
    },
    {
      "cell_type": "markdown",
      "metadata": {
        "id": "xxTLuV8xy8aI"
      },
      "source": [
        "As it can be seen from the table above, the *SVM* model has the highest results. This method will be used to predict the future US President."
      ]
    },
    {
      "cell_type": "code",
      "metadata": {
        "id": "bzU2oFA8BJ9v"
      },
      "source": [
        "best_model = best_clfs[1]"
      ],
      "execution_count": 823,
      "outputs": []
    },
    {
      "cell_type": "markdown",
      "metadata": {
        "id": "K88-3edpkOD-"
      },
      "source": [
        "## 5. Predicting the next president"
      ]
    },
    {
      "cell_type": "markdown",
      "metadata": {
        "id": "1fGSGiayFi6i"
      },
      "source": [
        "Let us prepare the data for the period between 2017 and 2019 in the same way as for other ones. Then the *SVM* model will be applied to predict the next ruling party."
      ]
    },
    {
      "cell_type": "code",
      "metadata": {
        "id": "f3R4B-Is_2-u"
      },
      "source": [
        "# test data preparation\n",
        "\n",
        "diff = (data.loc[2019] - data.loc[2017]).values\n",
        "test_data = np.concatenate((diff, [1], [0]))"
      ],
      "execution_count": 824,
      "outputs": []
    },
    {
      "cell_type": "code",
      "metadata": {
        "id": "LfeOj5VCAMqK",
        "outputId": "909f484f-6fd2-40e0-cfe3-f6d476a4efff",
        "colab": {
          "base_uri": "https://localhost:8080/",
          "height": 34
        }
      },
      "source": [
        "# predicting next ruling part\n",
        "\n",
        "best_model[0].predict(test_data.reshape(1, -1))"
      ],
      "execution_count": 827,
      "outputs": [
        {
          "output_type": "execute_result",
          "data": {
            "text/plain": [
              "array([1.])"
            ]
          },
          "metadata": {
            "tags": []
          },
          "execution_count": 827
        }
      ]
    },
    {
      "cell_type": "markdown",
      "metadata": {
        "id": "9bHGUy5OOn5z"
      },
      "source": [
        "As we can see, the *SVM*-classifier predicts class 1 for given data. It means that the next ruling party will be the Democrats."
      ]
    },
    {
      "cell_type": "code",
      "metadata": {
        "id": "FLEhUJZOA6iB",
        "outputId": "95bdbca3-b638-4206-fb23-59258fd139be",
        "colab": {
          "base_uri": "https://localhost:8080/",
          "height": 34
        }
      },
      "source": [
        "# get the probability\n",
        "\n",
        "best_model[0].predict_proba(test_data.reshape(1, -1))"
      ],
      "execution_count": 826,
      "outputs": [
        {
          "output_type": "execute_result",
          "data": {
            "text/plain": [
              "array([[0.73467831, 0.26532169]])"
            ]
          },
          "metadata": {
            "tags": []
          },
          "execution_count": 826
        }
      ]
    },
    {
      "cell_type": "markdown",
      "metadata": {
        "id": "JzXULErTO88w"
      },
      "source": [
        "The probability of this event is 73%."
      ]
    },
    {
      "cell_type": "markdown",
      "metadata": {
        "id": "8OxgEx4KX1Hc"
      },
      "source": [
        "## 6. Discussion"
      ]
    },
    {
      "cell_type": "markdown",
      "metadata": {
        "id": "eORWgZQJHrrh"
      },
      "source": [
        "To sum up, in this work the prediction of the next ruling party was made on the historical data. The approach described in this research has one significant problem - a lack of data. The dataset upsample was made using the SMOTe algorithm to overcome this problem. 5 classical classifiers were trained and compared across the dataset. The *SVM* classifier showed the highest results on the test set and was used to predict the next president. It predicts that the next ruling party in 2021 will be the Democrats.\n",
        "\n",
        "\n",
        "Although current model is unstable and does not fully reflect the real world, since in such a task there may be additional dimensions of other factors that reflect the current situation in the country. I believe that this work is a good baseline for future researchers in this field. For example, one of significant improvements to this model may be to add a new set of factors for earlier time periods. This is what I was unable to do due to the unavailability of resources with statistical data on the US economy and social life in Russia."
      ]
    },
    {
      "cell_type": "code",
      "metadata": {
        "id": "4vqrigGfNk65"
      },
      "source": [
        ""
      ],
      "execution_count": null,
      "outputs": []
    }
  ]
}